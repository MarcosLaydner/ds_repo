{
  "nbformat": 4,
  "nbformat_minor": 0,
  "metadata": {
    "colab": {
      "name": "Titanic Dataset",
      "provenance": [],
      "collapsed_sections": [],
      "authorship_tag": "ABX9TyPphcCqcp8tXPNhBkjB89xR",
      "include_colab_link": true
    },
    "kernelspec": {
      "name": "python3",
      "display_name": "Python 3"
    },
    "accelerator": "GPU"
  },
  "cells": [
    {
      "cell_type": "markdown",
      "metadata": {
        "id": "view-in-github",
        "colab_type": "text"
      },
      "source": [
        "<a href=\"https://colab.research.google.com/github/MarcosLaydner/ds_repo/blob/master/Assignment_2/Titanic_Dataset.ipynb\" target=\"_parent\"><img src=\"https://colab.research.google.com/assets/colab-badge.svg\" alt=\"Open In Colab\"/></a>"
      ]
    },
    {
      "cell_type": "markdown",
      "metadata": {
        "id": "ANEELNkP40mk",
        "colab_type": "text"
      },
      "source": [
        "# Testing and comparing Learn++.NSE and drifting-feature-removal on Titanic Datase"
      ]
    },
    {
      "cell_type": "markdown",
      "metadata": {
        "id": "RVJrATuDgaNt",
        "colab_type": "text"
      },
      "source": [
        "## Imports and Enviroment preparation"
      ]
    },
    {
      "cell_type": "code",
      "metadata": {
        "id": "PVZvC0j52Zr_",
        "colab_type": "code",
        "outputId": "3641416c-f26b-4b64-c872-f50a7d9a954e",
        "colab": {
          "base_uri": "https://localhost:8080/",
          "height": 275
        }
      },
      "source": [
        "import pandas as pd\n",
        "import numpy as np\n",
        "import os\n",
        "from sklearn.model_selection import train_test_split\n",
        "from sklearn.metrics import roc_auc_score\n",
        "from sklearn.naive_bayes import GaussianNB\n",
        "from sklearn.ensemble import RandomForestClassifier\n",
        "from sklearn.ensemble import RandomForestRegressor\n",
        "from sklearn.model_selection import cross_val_score\n",
        "from sklearn.preprocessing import LabelEncoder\n",
        "from google.colab import files\n",
        "from zipfile import ZipFile\n",
        "import matplotlib.pyplot as plt\n",
        "\n",
        "!pip install -U scikit-multiflow\n",
        "from skmultiflow.meta import LearnNSE"
      ],
      "execution_count": 0,
      "outputs": [
        {
          "output_type": "stream",
          "text": [
            "Requirement already up-to-date: scikit-multiflow in /usr/local/lib/python3.6/dist-packages (0.4.1)\n",
            "Requirement already satisfied, skipping upgrade: scipy>=1.0.0 in /usr/local/lib/python3.6/dist-packages (from scikit-multiflow) (1.4.1)\n",
            "Requirement already satisfied, skipping upgrade: pandas>=0.21.0 in /usr/local/lib/python3.6/dist-packages (from scikit-multiflow) (1.0.3)\n",
            "Requirement already satisfied, skipping upgrade: matplotlib>=2.0.0 in /usr/local/lib/python3.6/dist-packages (from scikit-multiflow) (3.2.1)\n",
            "Requirement already satisfied, skipping upgrade: numpy>=1.11.0 in /usr/local/lib/python3.6/dist-packages (from scikit-multiflow) (1.18.2)\n",
            "Requirement already satisfied, skipping upgrade: sortedcontainers>=1.5.7 in /usr/local/lib/python3.6/dist-packages (from scikit-multiflow) (2.1.0)\n",
            "Requirement already satisfied, skipping upgrade: scikit-learn>=0.20 in /usr/local/lib/python3.6/dist-packages (from scikit-multiflow) (0.22.2.post1)\n",
            "Requirement already satisfied, skipping upgrade: pytz>=2017.2 in /usr/local/lib/python3.6/dist-packages (from pandas>=0.21.0->scikit-multiflow) (2018.9)\n",
            "Requirement already satisfied, skipping upgrade: python-dateutil>=2.6.1 in /usr/local/lib/python3.6/dist-packages (from pandas>=0.21.0->scikit-multiflow) (2.8.1)\n",
            "Requirement already satisfied, skipping upgrade: pyparsing!=2.0.4,!=2.1.2,!=2.1.6,>=2.0.1 in /usr/local/lib/python3.6/dist-packages (from matplotlib>=2.0.0->scikit-multiflow) (2.4.7)\n",
            "Requirement already satisfied, skipping upgrade: kiwisolver>=1.0.1 in /usr/local/lib/python3.6/dist-packages (from matplotlib>=2.0.0->scikit-multiflow) (1.2.0)\n",
            "Requirement already satisfied, skipping upgrade: cycler>=0.10 in /usr/local/lib/python3.6/dist-packages (from matplotlib>=2.0.0->scikit-multiflow) (0.10.0)\n",
            "Requirement already satisfied, skipping upgrade: joblib>=0.11 in /usr/local/lib/python3.6/dist-packages (from scikit-learn>=0.20->scikit-multiflow) (0.14.1)\n",
            "Requirement already satisfied, skipping upgrade: six>=1.5 in /usr/local/lib/python3.6/dist-packages (from python-dateutil>=2.6.1->pandas>=0.21.0->scikit-multiflow) (1.12.0)\n"
          ],
          "name": "stdout"
        }
      ]
    },
    {
      "cell_type": "code",
      "metadata": {
        "id": "dWPk_kzH5oZy",
        "colab_type": "code",
        "colab": {}
      },
      "source": [
        "# Install Kaggle library\n",
        "!pip install -q kaggle\n",
        "\n",
        "# Upload kaggle API key file if needed\n",
        "# uploaded = files.upload()\n",
        "\n",
        "# moves json file so the download commands works properly\n",
        "# !cp kaggle.json ~/.kaggle/kaggle.json\n",
        "\n",
        "# Or alternatively, type your credentials into the following variables\n",
        "os.environ['KAGGLE_USERNAME'] = \"user\" # username from the json file\n",
        "os.environ['KAGGLE_KEY'] = \"key\" # key from the json file"
      ],
      "execution_count": 0,
      "outputs": []
    },
    {
      "cell_type": "markdown",
      "metadata": {
        "id": "WPf-guWGgwFk",
        "colab_type": "text"
      },
      "source": [
        "# Dataset download, storage and preprocessing"
      ]
    },
    {
      "cell_type": "code",
      "metadata": {
        "id": "lHceVfC58i51",
        "colab_type": "code",
        "outputId": "c6328d9c-bd5c-4c20-dcee-bdadc3804423",
        "colab": {
          "base_uri": "https://localhost:8080/",
          "height": 85
        }
      },
      "source": [
        "!kaggle competitions download -c titanic\n",
        "\n",
        "train = pd.read_csv('train.csv')\n",
        "test = pd.read_csv('test.csv')"
      ],
      "execution_count": 0,
      "outputs": [
        {
          "output_type": "stream",
          "text": [
            "Warning: Looks like you're using an outdated API Version, please consider updating (server 1.5.6 / client 1.5.4)\n",
            "gender_submission.csv: Skipping, found more recently modified local copy (use --force to force download)\n",
            "train.csv: Skipping, found more recently modified local copy (use --force to force download)\n",
            "test.csv: Skipping, found more recently modified local copy (use --force to force download)\n"
          ],
          "name": "stdout"
        }
      ]
    },
    {
      "cell_type": "code",
      "metadata": {
        "id": "LMDfhqEtJFcz",
        "colab_type": "code",
        "colab": {}
      },
      "source": [
        "def missing_data_treatment(data):\n",
        "  for i in data.columns:\n",
        "    if data[i].dtype == 'object':\n",
        "      data[i] = data[i].fillna(data[i].mode().iloc[0])\n",
        "    if (data[i].dtype == 'int' or data[i].dtype == 'float'):\n",
        "      data[i] = data[i].fillna(np.mean(data[i]))\n",
        "\n",
        "def label_encoding(data, encoder):\n",
        "  for i in data.columns:\n",
        "    if (data[i].dtype == 'object'):\n",
        "      data[i] = encoder.fit_transform(data[i].astype('str'))\n",
        "      data[i] = data[i].astype('object')"
      ],
      "execution_count": 0,
      "outputs": []
    },
    {
      "cell_type": "code",
      "metadata": {
        "id": "EX_0mQEgJ4HF",
        "colab_type": "code",
        "outputId": "04da13ce-d630-4600-bd92-ff1cea1d1095",
        "colab": {
          "base_uri": "https://localhost:8080/",
          "height": 419
        }
      },
      "source": [
        "missing_data_treatment(train)\n",
        "missing_data_treatment(test)\n",
        "\n",
        "number = LabelEncoder()\n",
        "label_encoding(train, number)\n",
        "label_encoding(test, number)\n",
        "\n",
        "train"
      ],
      "execution_count": 0,
      "outputs": [
        {
          "output_type": "execute_result",
          "data": {
            "text/html": [
              "<div>\n",
              "<style scoped>\n",
              "    .dataframe tbody tr th:only-of-type {\n",
              "        vertical-align: middle;\n",
              "    }\n",
              "\n",
              "    .dataframe tbody tr th {\n",
              "        vertical-align: top;\n",
              "    }\n",
              "\n",
              "    .dataframe thead th {\n",
              "        text-align: right;\n",
              "    }\n",
              "</style>\n",
              "<table border=\"1\" class=\"dataframe\">\n",
              "  <thead>\n",
              "    <tr style=\"text-align: right;\">\n",
              "      <th></th>\n",
              "      <th>PassengerId</th>\n",
              "      <th>Survived</th>\n",
              "      <th>Pclass</th>\n",
              "      <th>Name</th>\n",
              "      <th>Sex</th>\n",
              "      <th>Age</th>\n",
              "      <th>SibSp</th>\n",
              "      <th>Parch</th>\n",
              "      <th>Ticket</th>\n",
              "      <th>Fare</th>\n",
              "      <th>Cabin</th>\n",
              "      <th>Embarked</th>\n",
              "    </tr>\n",
              "  </thead>\n",
              "  <tbody>\n",
              "    <tr>\n",
              "      <th>0</th>\n",
              "      <td>1</td>\n",
              "      <td>0</td>\n",
              "      <td>3</td>\n",
              "      <td>108</td>\n",
              "      <td>1</td>\n",
              "      <td>22.000000</td>\n",
              "      <td>1</td>\n",
              "      <td>0</td>\n",
              "      <td>523</td>\n",
              "      <td>7.2500</td>\n",
              "      <td>47</td>\n",
              "      <td>2</td>\n",
              "    </tr>\n",
              "    <tr>\n",
              "      <th>1</th>\n",
              "      <td>2</td>\n",
              "      <td>1</td>\n",
              "      <td>1</td>\n",
              "      <td>190</td>\n",
              "      <td>0</td>\n",
              "      <td>38.000000</td>\n",
              "      <td>1</td>\n",
              "      <td>0</td>\n",
              "      <td>596</td>\n",
              "      <td>71.2833</td>\n",
              "      <td>81</td>\n",
              "      <td>0</td>\n",
              "    </tr>\n",
              "    <tr>\n",
              "      <th>2</th>\n",
              "      <td>3</td>\n",
              "      <td>1</td>\n",
              "      <td>3</td>\n",
              "      <td>353</td>\n",
              "      <td>0</td>\n",
              "      <td>26.000000</td>\n",
              "      <td>0</td>\n",
              "      <td>0</td>\n",
              "      <td>669</td>\n",
              "      <td>7.9250</td>\n",
              "      <td>47</td>\n",
              "      <td>2</td>\n",
              "    </tr>\n",
              "    <tr>\n",
              "      <th>3</th>\n",
              "      <td>4</td>\n",
              "      <td>1</td>\n",
              "      <td>1</td>\n",
              "      <td>272</td>\n",
              "      <td>0</td>\n",
              "      <td>35.000000</td>\n",
              "      <td>1</td>\n",
              "      <td>0</td>\n",
              "      <td>49</td>\n",
              "      <td>53.1000</td>\n",
              "      <td>55</td>\n",
              "      <td>2</td>\n",
              "    </tr>\n",
              "    <tr>\n",
              "      <th>4</th>\n",
              "      <td>5</td>\n",
              "      <td>0</td>\n",
              "      <td>3</td>\n",
              "      <td>15</td>\n",
              "      <td>1</td>\n",
              "      <td>35.000000</td>\n",
              "      <td>0</td>\n",
              "      <td>0</td>\n",
              "      <td>472</td>\n",
              "      <td>8.0500</td>\n",
              "      <td>47</td>\n",
              "      <td>2</td>\n",
              "    </tr>\n",
              "    <tr>\n",
              "      <th>...</th>\n",
              "      <td>...</td>\n",
              "      <td>...</td>\n",
              "      <td>...</td>\n",
              "      <td>...</td>\n",
              "      <td>...</td>\n",
              "      <td>...</td>\n",
              "      <td>...</td>\n",
              "      <td>...</td>\n",
              "      <td>...</td>\n",
              "      <td>...</td>\n",
              "      <td>...</td>\n",
              "      <td>...</td>\n",
              "    </tr>\n",
              "    <tr>\n",
              "      <th>886</th>\n",
              "      <td>887</td>\n",
              "      <td>0</td>\n",
              "      <td>2</td>\n",
              "      <td>548</td>\n",
              "      <td>1</td>\n",
              "      <td>27.000000</td>\n",
              "      <td>0</td>\n",
              "      <td>0</td>\n",
              "      <td>101</td>\n",
              "      <td>13.0000</td>\n",
              "      <td>47</td>\n",
              "      <td>2</td>\n",
              "    </tr>\n",
              "    <tr>\n",
              "      <th>887</th>\n",
              "      <td>888</td>\n",
              "      <td>1</td>\n",
              "      <td>1</td>\n",
              "      <td>303</td>\n",
              "      <td>0</td>\n",
              "      <td>19.000000</td>\n",
              "      <td>0</td>\n",
              "      <td>0</td>\n",
              "      <td>14</td>\n",
              "      <td>30.0000</td>\n",
              "      <td>30</td>\n",
              "      <td>2</td>\n",
              "    </tr>\n",
              "    <tr>\n",
              "      <th>888</th>\n",
              "      <td>889</td>\n",
              "      <td>0</td>\n",
              "      <td>3</td>\n",
              "      <td>413</td>\n",
              "      <td>0</td>\n",
              "      <td>29.699118</td>\n",
              "      <td>1</td>\n",
              "      <td>2</td>\n",
              "      <td>675</td>\n",
              "      <td>23.4500</td>\n",
              "      <td>47</td>\n",
              "      <td>2</td>\n",
              "    </tr>\n",
              "    <tr>\n",
              "      <th>889</th>\n",
              "      <td>890</td>\n",
              "      <td>1</td>\n",
              "      <td>1</td>\n",
              "      <td>81</td>\n",
              "      <td>1</td>\n",
              "      <td>26.000000</td>\n",
              "      <td>0</td>\n",
              "      <td>0</td>\n",
              "      <td>8</td>\n",
              "      <td>30.0000</td>\n",
              "      <td>60</td>\n",
              "      <td>0</td>\n",
              "    </tr>\n",
              "    <tr>\n",
              "      <th>890</th>\n",
              "      <td>891</td>\n",
              "      <td>0</td>\n",
              "      <td>3</td>\n",
              "      <td>220</td>\n",
              "      <td>1</td>\n",
              "      <td>32.000000</td>\n",
              "      <td>0</td>\n",
              "      <td>0</td>\n",
              "      <td>466</td>\n",
              "      <td>7.7500</td>\n",
              "      <td>47</td>\n",
              "      <td>1</td>\n",
              "    </tr>\n",
              "  </tbody>\n",
              "</table>\n",
              "<p>891 rows × 12 columns</p>\n",
              "</div>"
            ],
            "text/plain": [
              "     PassengerId  Survived  Pclass Name  ... Ticket     Fare  Cabin  Embarked\n",
              "0              1         0       3  108  ...    523   7.2500     47         2\n",
              "1              2         1       1  190  ...    596  71.2833     81         0\n",
              "2              3         1       3  353  ...    669   7.9250     47         2\n",
              "3              4         1       1  272  ...     49  53.1000     55         2\n",
              "4              5         0       3   15  ...    472   8.0500     47         2\n",
              "..           ...       ...     ...  ...  ...    ...      ...    ...       ...\n",
              "886          887         0       2  548  ...    101  13.0000     47         2\n",
              "887          888         1       1  303  ...     14  30.0000     30         2\n",
              "888          889         0       3  413  ...    675  23.4500     47         2\n",
              "889          890         1       1   81  ...      8  30.0000     60         0\n",
              "890          891         0       3  220  ...    466   7.7500     47         1\n",
              "\n",
              "[891 rows x 12 columns]"
            ]
          },
          "metadata": {
            "tags": []
          },
          "execution_count": 35
        }
      ]
    },
    {
      "cell_type": "code",
      "metadata": {
        "id": "nYHF66LK7ong",
        "colab_type": "code",
        "outputId": "548ea888-0db1-42f1-9526-1bb2a5dcfa70",
        "colab": {
          "base_uri": "https://localhost:8080/",
          "height": 319
        }
      },
      "source": [
        "plt.subplot()\n",
        "plt.plot(train.Cabin)\n",
        "plt.ylabel('full_sq')\n",
        "plt.subplot()\n",
        "plt.plot(test.Cabin)\n",
        "plt.ylabel('full_sq')\n",
        "plt.show()"
      ],
      "execution_count": 0,
      "outputs": [
        {
          "output_type": "stream",
          "text": [
            "/usr/local/lib/python3.6/dist-packages/ipykernel_launcher.py:4: MatplotlibDeprecationWarning: Adding an axes using the same arguments as a previous axes currently reuses the earlier instance.  In a future version, a new instance will always be created and returned.  Meanwhile, this warning can be suppressed, and the future behavior ensured, by passing a unique label to each axes instance.\n",
            "  after removing the cwd from sys.path.\n"
          ],
          "name": "stderr"
        },
        {
          "output_type": "display_data",
          "data": {
            "image/png": "[encoded data removed]",
            "text/plain": [
              "<Figure size 432x288 with 1 Axes>"
            ]
          },
          "metadata": {
            "tags": [],
            "needs_background": "light"
          }
        }
      ]
    },
    {
      "cell_type": "markdown",
      "metadata": {
        "id": "um7hvmwWgNLt",
        "colab_type": "text"
      },
      "source": [
        "# Functions for checking Covariate Shift"
      ]
    },
    {
      "cell_type": "code",
      "metadata": {
        "id": "WJpSK7CizxUx",
        "colab_type": "code",
        "colab": {}
      },
      "source": [
        "def compare_train_test_distribution(train, test, col, bins):  \n",
        "  N_points = 100000\n",
        "  n_bins = bins\n",
        "\n",
        "  x = train[col]\n",
        "  y = test[col]\n",
        "\n",
        "  fig, axs = plt.subplots(1, 2, sharey=True, tight_layout=True)\n",
        "\n",
        "  # We can set the number of bins with the `bins` kwarg\n",
        "  axs[0].hist(x, bins=n_bins)\n",
        "  axs[1].hist(y, bins=n_bins)\n",
        "\n",
        "def concat(train_df, test_df, id_column, y):\n",
        "  train_df.drop(columns=[id_column, y], inplace=True)\n",
        "  test_df.drop(columns=[id_column], inplace=True)\n",
        "\n",
        "  train_df['is_test'] = 0\n",
        "  test_df['is_test'] = 1\n",
        "  df = pd.concat([train_df, test_df], axis = 0)\n",
        "  return df\n",
        "\n",
        "def shuffle_split(df):\n",
        "  X = df.drop(columns=['is_test'])\n",
        "  y = df['is_test']\n",
        "\n",
        "  X_train, X_test, y_train, y_test = train_test_split(X, y, test_size=0.3, random_state=42, shuffle=True)\n",
        "  print('train2 shape:', X_train.shape, 'test2 shape:', X_test.shape)\n",
        "  return X_train, X_test, y_train, y_test\n",
        "\n",
        "\n",
        "def test_shift(X_train, X_test, y_train, y_test):\n",
        "  rfc = RandomForestClassifier()\n",
        "  rfc.fit(X_train, y_train)\n",
        "  y_test_score = rfc.predict_proba(X_test)\n",
        "\n",
        "  print('AUC score: ', round(roc_auc_score(y_true=y_test, y_score=y_test_score[:,1]), 4))"
      ],
      "execution_count": 0,
      "outputs": []
    },
    {
      "cell_type": "markdown",
      "metadata": {
        "id": "7cr5_Dm4midz",
        "colab_type": "text"
      },
      "source": [
        "# Applying the functions to the data"
      ]
    },
    {
      "cell_type": "code",
      "metadata": {
        "id": "MU8q8Z-K2-dr",
        "colab_type": "code",
        "outputId": "975c2f84-4fd4-4fa5-d7be-7bbfe17f9ac9",
        "colab": {
          "base_uri": "https://localhost:8080/",
          "height": 331
        }
      },
      "source": [
        "train_c = train.copy()\n",
        "test_c = test.copy()\n",
        "\n",
        "compare_train_test_distribution(train_c, test_c, 'Cabin', 5)\n",
        "\n",
        "concat_df = concat(train_c, test_c, 'PassengerId', 'Survived')\n",
        "param = shuffle_split(concat_df)\n",
        "\n",
        "test_shift(param[0], param[1], param[2], param[3])\n"
      ],
      "execution_count": 0,
      "outputs": [
        {
          "output_type": "stream",
          "text": [
            "train2 shape: (916, 10) test2 shape: (393, 10)\n",
            "AUC score:  0.9949\n"
          ],
          "name": "stdout"
        },
        {
          "output_type": "display_data",
          "data": {
            "image/png": "[encoded data removed]",
            "text/plain": [
              "<Figure size 432x288 with 2 Axes>"
            ]
          },
          "metadata": {
            "tags": [],
            "needs_background": "light"
          }
        }
      ]
    },
    {
      "cell_type": "markdown",
      "metadata": {
        "colab_type": "text",
        "id": "cR9c0BFKVOv5"
      },
      "source": [
        "score of 1.0 indicating total shift"
      ]
    },
    {
      "cell_type": "markdown",
      "metadata": {
        "colab_type": "text",
        "id": "omulaAZLVOv6"
      },
      "source": [
        "# Identifying problematic features"
      ]
    },
    {
      "cell_type": "code",
      "metadata": {
        "colab_type": "code",
        "outputId": "c83c064a-ecc8-4b32-ba97-58b743b7c096",
        "id": "DFuaHeH-VOv8",
        "colab": {
          "base_uri": "https://localhost:8080/",
          "height": 68
        }
      },
      "source": [
        "y = concat_df['is_test']\n",
        "model = RandomForestClassifier(n_estimators = 50, max_depth = 5,min_samples_leaf = 5)\n",
        "drop_list = []\n",
        "for i in concat_df.columns:\n",
        "  score = cross_val_score(model,pd.DataFrame(concat_df[i]),y,cv=2,scoring='roc_auc')\n",
        "  if (np.mean(score) > 0.8):\n",
        "    drop_list.append(i)\n",
        "    print(i,np.mean(score))\n",
        "\n",
        "drop_list.remove('is_test')\n",
        "drop_list"
      ],
      "execution_count": 0,
      "outputs": [
        {
          "output_type": "stream",
          "text": [
            "Cabin 0.9814962453197583\n",
            "is_test 1.0\n"
          ],
          "name": "stdout"
        },
        {
          "output_type": "execute_result",
          "data": {
            "text/plain": [
              "['Cabin']"
            ]
          },
          "metadata": {
            "tags": []
          },
          "execution_count": 39
        }
      ]
    },
    {
      "cell_type": "markdown",
      "metadata": {
        "id": "cb-5jRuz5NDk",
        "colab_type": "text"
      },
      "source": [
        "Only the Cabin feature has been identified as drifting\n",
        "\n",
        "---"
      ]
    },
    {
      "cell_type": "markdown",
      "metadata": {
        "id": "_LdcKTwRPNJT",
        "colab_type": "text"
      },
      "source": [
        "# Determining the importance of the drifting features"
      ]
    },
    {
      "cell_type": "code",
      "metadata": {
        "id": "YSXYm2OmVhcZ",
        "colab_type": "code",
        "outputId": "83a0e075-2a62-4d90-ba3b-ca17210220b6",
        "colab": {
          "base_uri": "https://localhost:8080/",
          "height": 68
        }
      },
      "source": [
        "rf = RandomForestClassifier()\n",
        "rf.fit(train.drop('Survived',axis=1),train['Survived'])\n",
        "pred = rf.predict(test)\n",
        "columns = ['Survived']\n",
        "sub = pd.DataFrame(data=pred,columns=columns)\n",
        "sub['PassengerId'] = test['PassengerId']\n",
        "sub = sub[['PassengerId','Survived']]\n",
        "sub.to_csv('with_drifting.csv', index=False)\n",
        "\n",
        "!kaggle competitions submit -c titanic -f with_drifting.csv -m \"With drifting\""
      ],
      "execution_count": 0,
      "outputs": [
        {
          "output_type": "stream",
          "text": [
            "Warning: Looks like you're using an outdated API Version, please consider updating (server 1.5.6 / client 1.5.4)\n",
            "100% 2.77k/2.77k [00:04<00:00, 664B/s]\n",
            "Successfully submitted to Titanic: Machine Learning from Disaster"
          ],
          "name": "stdout"
        }
      ]
    },
    {
      "cell_type": "markdown",
      "metadata": {
        "id": "GOTd0Y4G6NvL",
        "colab_type": "text"
      },
      "source": [
        "Accuracy store is 0.76076"
      ]
    },
    {
      "cell_type": "markdown",
      "metadata": {
        "id": "7rhhWUh9Yx5z",
        "colab_type": "text"
      },
      "source": [
        "RMSE of the submitted model with drifting is 0.40540"
      ]
    },
    {
      "cell_type": "code",
      "metadata": {
        "id": "cYyMAJIfF2eT",
        "colab_type": "code",
        "outputId": "59d76454-7526-4fd4-d9ff-31dbdf557e17",
        "colab": {
          "base_uri": "https://localhost:8080/",
          "height": 370
        }
      },
      "source": [
        "features = train.drop('Survived',axis=1).columns.values\n",
        "imp = rf.feature_importances_\n",
        "indices = np.argsort(imp)[::-1][:20]\n",
        "\n",
        "#plot\n",
        "plt.figure(figsize=(8,5))\n",
        "plt.bar(range(len(indices)), imp[indices], color = 'b', align='center')\n",
        "plt.xticks(range(len(indices)), features[indices], rotation='vertical')\n",
        "plt.xlim([-1,len(indices)])\n",
        "plt.show()"
      ],
      "execution_count": 0,
      "outputs": [
        {
          "output_type": "display_data",
          "data": {
            "image/png": "[encoded data removed]",
            "text/plain": [
              "<Figure size 576x360 with 1 Axes>"
            ]
          },
          "metadata": {
            "tags": [],
            "needs_background": "light"
          }
        }
      ]
    },
    {
      "cell_type": "markdown",
      "metadata": {
        "id": "tWK0BjxDGWQ4",
        "colab_type": "text"
      },
      "source": [
        "This way, it is possible to conclude that the only drifting feature is not very important, and can be removed\n"
      ]
    },
    {
      "cell_type": "markdown",
      "metadata": {
        "id": "srMayEYSGx6L",
        "colab_type": "text"
      },
      "source": [
        "## Testing the performance without the problem feature\n"
      ]
    },
    {
      "cell_type": "code",
      "metadata": {
        "id": "AFbP3bXcHCww",
        "colab_type": "code",
        "outputId": "698923e5-9cf4-4f6c-9d5c-d426ba7160a0",
        "colab": {
          "base_uri": "https://localhost:8080/",
          "height": 68
        }
      },
      "source": [
        "drift_train = train.drop(columns=drop_list)\n",
        "drift_test = test.drop(columns=drop_list)\n",
        "\n",
        "rf = RandomForestClassifier(n_estimators=200, max_depth=6,max_features=10)\n",
        "rf.fit(drift_train.drop('Survived',axis=1),train['Survived'])\n",
        "pred = rf.predict(drift_test)\n",
        "columns = ['Survived']\n",
        "sub = pd.DataFrame(data=pred,columns=columns)\n",
        "sub['PassengerId'] = test['PassengerId']\n",
        "sub = sub[['PassengerId','Survived']]\n",
        "sub.to_csv('without_drifting.csv', index=False)\n",
        "\n",
        "!kaggle competitions submit -c titanic -f without_drifting.csv -m \"without drifting\""
      ],
      "execution_count": 0,
      "outputs": [
        {
          "output_type": "stream",
          "text": [
            "Warning: Looks like you're using an outdated API Version, please consider updating (server 1.5.6 / client 1.5.4)\n",
            "100% 2.77k/2.77k [00:03<00:00, 895B/s]\n",
            "Successfully submitted to Titanic: Machine Learning from Disaster"
          ],
          "name": "stdout"
        }
      ]
    },
    {
      "cell_type": "markdown",
      "metadata": {
        "id": "gz3C6jyz7g_s",
        "colab_type": "text"
      },
      "source": [
        "The result is suprisingly lower, with an accuracy score of 0.75119\n"
      ]
    },
    {
      "cell_type": "markdown",
      "metadata": {
        "id": "s1rq7wlYd63j",
        "colab_type": "text"
      },
      "source": [
        "## Using Learn++.NSE\n"
      ]
    },
    {
      "cell_type": "code",
      "metadata": {
        "id": "IQ8Ln2YBd6Je",
        "colab_type": "code",
        "colab": {}
      },
      "source": [
        "def learn_nse_method(train, test):\n",
        "  learn_nse = LearnNSE()\n",
        "\n",
        "  n_samples = 0\n",
        "  correct_cnt = 0\n",
        "\n",
        "  for i in range(len(train)):\n",
        "    sample = train.iloc[[i]]\n",
        "    X = sample.loc[:, train.columns != 'Survived']\n",
        "    y = sample['Survived']\n",
        "    \n",
        "    y_pred = learn_nse.predict(X.to_numpy())\n",
        "\n",
        "    if y.values[0] == y_pred[0]:\n",
        "      correct_cnt += 1\n",
        "\n",
        "    learn_nse = learn_nse.partial_fit(X.to_numpy(), y.to_numpy(), classes=[0, 1])\n",
        "    n_samples += 1\n",
        "\n",
        "  print('{} samples analyzed.'.format(n_samples))\n",
        "  print('LearnPP.NSE accuracy: {}'.format(correct_cnt / n_samples))\n",
        "\n",
        "  return learn_nse"
      ],
      "execution_count": 0,
      "outputs": []
    },
    {
      "cell_type": "code",
      "metadata": {
        "id": "lwe_cYUdihxx",
        "colab_type": "code",
        "outputId": "7496cbc9-18d7-4716-f860-69d68d87ba76",
        "colab": {
          "base_uri": "https://localhost:8080/",
          "height": 102
        }
      },
      "source": [
        "learn_nse = learn_nse_method(train, test)\n",
        "\n",
        "predictions = learn_nse.predict(test.to_numpy())\n",
        "columns = ['Survived']\n",
        "sub = pd.DataFrame(data=predictions,columns=columns)\n",
        "sub['PassengerId'] = test['PassengerId']\n",
        "sub = sub[['PassengerId','Survived']]\n",
        "sub.to_csv('LearnSE.csv', index=False)\n",
        "\n",
        "!kaggle competitions submit -c titanic -f LearnSE.csv -m \"LearnSE\""
      ],
      "execution_count": 0,
      "outputs": [
        {
          "output_type": "stream",
          "text": [
            "891 samples analyzed.\n",
            "LearnPP.NSE accuracy: 0.7250280583613917\n",
            "Warning: Looks like you're using an outdated API Version, please consider updating (server 1.5.6 / client 1.5.4)\n",
            "100% 2.77k/2.77k [00:03<00:00, 895B/s]\n",
            "Successfully submitted to Titanic: Machine Learning from Disaster"
          ],
          "name": "stdout"
        }
      ]
    },
    {
      "cell_type": "markdown",
      "metadata": {
        "id": "Dcw--SKA7u6i",
        "colab_type": "text"
      },
      "source": [
        "The result for the Learn++.NSE method will all features is 0.75598, which is higher than the proposed method, but lower than the plain Random Forest Classifier"
      ]
    },
    {
      "cell_type": "markdown",
      "metadata": {
        "colab_type": "text",
        "id": "pB1LLUbJpHMO"
      },
      "source": [
        "Using Learn++.NSE without drifting feature\n"
      ]
    },
    {
      "cell_type": "code",
      "metadata": {
        "id": "kpXiVFn4qpCM",
        "colab_type": "code",
        "outputId": "133cc1a1-b059-477e-a26a-4f2e3a3eb126",
        "colab": {
          "base_uri": "https://localhost:8080/",
          "height": 102
        }
      },
      "source": [
        "drift_train = train.drop(columns=drop_list)\n",
        "drift_test = test.drop(columns=drop_list)\n",
        "\n",
        "learn_nse = learn_nse_method(drift_train, drift_test)\n",
        "\n",
        "predictions = learn_nse.predict(drift_test.to_numpy())\n",
        "columns = ['Survived']\n",
        "sub = pd.DataFrame(data=predictions,columns=columns)\n",
        "sub['PassengerId'] = drift_test['PassengerId']\n",
        "sub = sub[['PassengerId','Survived']]\n",
        "sub.to_csv('LearnSE_no_drift.csv', index=False)\n",
        "\n",
        "!kaggle competitions submit -c titanic -f LearnSE_no_drift.csv -m \"LearnSE without drift\""
      ],
      "execution_count": 0,
      "outputs": [
        {
          "output_type": "stream",
          "text": [
            "891 samples analyzed.\n",
            "LearnPP.NSE accuracy: 0.7272727272727273\n",
            "Warning: Looks like you're using an outdated API Version, please consider updating (server 1.5.6 / client 1.5.4)\n",
            "100% 2.77k/2.77k [00:03<00:00, 909B/s]\n",
            "403 - Your team has used its submission allowance (10 of 10). This resets at midnight UTC (9.1 hours from now).\n"
          ],
          "name": "stdout"
        }
      ]
    },
    {
      "cell_type": "markdown",
      "metadata": {
        "id": "mJdksvBo8q1p",
        "colab_type": "text"
      },
      "source": [
        "Running Learn++.NSE withou the drifting feature resulted in the highest score, with an accuracy of 0.76555"
      ]
    }
  ]
}