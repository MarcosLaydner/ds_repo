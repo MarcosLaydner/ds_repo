{
  "nbformat": 4,
  "nbformat_minor": 0,
  "metadata": {
    "colab": {
      "name": "Lab_1",
      "provenance": [],
      "collapsed_sections": [],
      "authorship_tag": "ABX9TyNXlBbqZCBNTtDE//y1v+9R",
      "include_colab_link": true
    },
    "kernelspec": {
      "name": "python3",
      "display_name": "Python 3"
    },
    "accelerator": "GPU"
  },
  "cells": [
    {
      "cell_type": "markdown",
      "metadata": {
        "id": "view-in-github",
        "colab_type": "text"
      },
      "source": [
        "<a href=\"https://colab.research.google.com/github/MarcosLaydner/ds_repo/blob/master/Lab_1/Lab_1.ipynb\" target=\"_parent\"><img src=\"https://colab.research.google.com/assets/colab-badge.svg\" alt=\"Open In Colab\"/></a>"
      ]
    },
    {
      "cell_type": "markdown",
      "metadata": {
        "id": "ogAXnFfNzhDu",
        "colab_type": "text"
      },
      "source": [
        "# 1. Create a (4 x 2) integer array and print it's attributes"
      ]
    },
    {
      "cell_type": "code",
      "metadata": {
        "id": "Dark2zWlx8ZS",
        "colab_type": "code",
        "colab": {
          "base_uri": "https://localhost:8080/",
          "height": 119
        },
        "outputId": "f7fd2494-7004-43a1-dc12-b64cd6fc9514"
      },
      "source": [
        "import numpy as np\n",
        "\n",
        "a = np.array([[0, 1],\n",
        "             [4, 5],\n",
        "              [2, 3],\n",
        "              [7, 8]])\n",
        "\n",
        "print(type(a))\n",
        "print(a.dtype)\n",
        "print(a.ndim)\n",
        "print(a.shape)\n",
        "print(a.itemsize)\n",
        "print(a.nbytes)"
      ],
      "execution_count": 26,
      "outputs": [
        {
          "output_type": "stream",
          "text": [
            "<class 'numpy.ndarray'>\n",
            "int64\n",
            "2\n",
            "(4, 2)\n",
            "8\n",
            "64\n"
          ],
          "name": "stdout"
        }
      ]
    },
    {
      "cell_type": "markdown",
      "metadata": {
        "id": "9o0v8A9_zhfm",
        "colab_type": "text"
      },
      "source": [
        "# 2. Create an array of dimension (1,10) and sort it in ascending and descending order"
      ]
    },
    {
      "cell_type": "code",
      "metadata": {
        "id": "RA7sTBlZzhNW",
        "colab_type": "code",
        "colab": {
          "base_uri": "https://localhost:8080/",
          "height": 68
        },
        "outputId": "8a146734-a1b8-4185-96dd-17223034c061"
      },
      "source": [
        "a = np.array([2,6,7,8,23,234,2,5,0,144])\n",
        "print(a.shape)\n",
        "\n",
        "a.sort()\n",
        "print(a)\n",
        "print(a[::-1])"
      ],
      "execution_count": 21,
      "outputs": [
        {
          "output_type": "stream",
          "text": [
            "(10,)\n",
            "[  0   2   2   5   6   7   8  23 144 234]\n",
            "[234 144  23   8   7   6   5   2   2   0]\n"
          ],
          "name": "stdout"
        }
      ]
    },
    {
      "cell_type": "markdown",
      "metadata": {
        "id": "fVLN1dBd4qmA",
        "colab_type": "text"
      },
      "source": [
        "# 3. Convert an 1D array [1 2 3 4 5 6 7 8 9] to 2D array [[1 2 3], [4 5 6], [7 8 9]]"
      ]
    },
    {
      "cell_type": "code",
      "metadata": {
        "id": "2DXrJZ7P4tZu",
        "colab_type": "code",
        "colab": {
          "base_uri": "https://localhost:8080/",
          "height": 85
        },
        "outputId": "c015e205-dda6-4819-d691-dc5f8879e6f9"
      },
      "source": [
        "a = np.array( [1, 2, 3, 4, 5, 6, 7, 8, 9] )\n",
        "print(a)\n",
        "# new_a = np.reshape(a, (-1, 2))\n",
        "# print(new_a)\n",
        "a.shape = (a.size//3, 3)\n",
        "print(a)"
      ],
      "execution_count": 32,
      "outputs": [
        {
          "output_type": "stream",
          "text": [
            "[1 2 3 4 5 6 7 8 9]\n",
            "[[1 2 3]\n",
            " [4 5 6]\n",
            " [7 8 9]]\n"
          ],
          "name": "stdout"
        }
      ]
    },
    {
      "cell_type": "markdown",
      "metadata": {
        "id": "CZPQMvkA7Jgx",
        "colab_type": "text"
      },
      "source": [
        "# 4. Stack two arrays of any size horizontally and vertically"
      ]
    },
    {
      "cell_type": "code",
      "metadata": {
        "id": "wOJcMgjF7To5",
        "colab_type": "code",
        "colab": {
          "base_uri": "https://localhost:8080/",
          "height": 119
        },
        "outputId": "0ca3bd55-c7d6-4cbc-b64a-2bc1ca93c595"
      },
      "source": [
        "a = np.array( [1, 2, 3, 4] )\n",
        "b = np.array( [5, 6, 7, 8] )\n",
        "arrays = [a, b]\n",
        "print(np.stack(arrays, axis=0))\n",
        "print(np.stack(arrays, axis=1))\n"
      ],
      "execution_count": 39,
      "outputs": [
        {
          "output_type": "stream",
          "text": [
            "[[1 2 3 4]\n",
            " [5 6 7 8]]\n",
            "[[1 5]\n",
            " [2 6]\n",
            " [3 7]\n",
            " [4 8]]\n"
          ],
          "name": "stdout"
        }
      ]
    },
    {
      "cell_type": "markdown",
      "metadata": {
        "id": "tClcnbMw829A",
        "colab_type": "text"
      },
      "source": [
        "# 5. Create two array of same size and find commom elements"
      ]
    },
    {
      "cell_type": "code",
      "metadata": {
        "id": "WcJj0bNh87kI",
        "colab_type": "code",
        "colab": {
          "base_uri": "https://localhost:8080/",
          "height": 34
        },
        "outputId": "5dbb2067-08c5-418e-a746-44944742aa87"
      },
      "source": [
        "a = np.array( [1, 2, 3, 4] )\n",
        "b = np.array( [8, 9, 7, 2] )\n",
        "\n",
        "print(np.intersect1d(a, b))"
      ],
      "execution_count": 44,
      "outputs": [
        {
          "output_type": "stream",
          "text": [
            "[2]\n"
          ],
          "name": "stdout"
        }
      ]
    },
    {
      "cell_type": "markdown",
      "metadata": {
        "id": "HRMp_Eql9Dqi",
        "colab_type": "text"
      },
      "source": [
        "# 6. Create a 2D array of 5 by 5 and find the min and max values from each row and each column"
      ]
    },
    {
      "cell_type": "code",
      "metadata": {
        "id": "o_DhMdEd9D3b",
        "colab_type": "code",
        "colab": {
          "base_uri": "https://localhost:8080/",
          "height": 153
        },
        "outputId": "b5008f8a-7912-4822-d335-976d0810f678"
      },
      "source": [
        "a = np.random.randint(100,  size=(2, 5))\n",
        "\n",
        "print(a)\n",
        "print('\\n')\n",
        "print(np.amax(a, axis=0))\n",
        "print('\\n')\n",
        "print(np.amax(a, axis=1))"
      ],
      "execution_count": 53,
      "outputs": [
        {
          "output_type": "stream",
          "text": [
            "[[ 1  8 98 32 98]\n",
            " [79 55 83 15 49]]\n",
            "\n",
            "\n",
            "[79 55 98 32 98]\n",
            "\n",
            "\n",
            "[98 83]\n"
          ],
          "name": "stdout"
        }
      ]
    },
    {
      "cell_type": "markdown",
      "metadata": {
        "id": "E9izXZyT9EJL",
        "colab_type": "text"
      },
      "source": [
        "# 7. Create an array of size 100 and compute the mean, median, standard deviation."
      ]
    },
    {
      "cell_type": "code",
      "metadata": {
        "id": "Yel1GCZT9EcS",
        "colab_type": "code",
        "colab": {
          "base_uri": "https://localhost:8080/",
          "height": 153
        },
        "outputId": "b57ab69a-ddfe-4536-b7d2-93c7d43c857d"
      },
      "source": [
        "a = np.random.randint(100,  size=(1, 100))\n",
        "\n",
        "print(a)\n",
        "print(np.mean(a))\n",
        "print(np.median(a))\n",
        "print(np.std(a))"
      ],
      "execution_count": 57,
      "outputs": [
        {
          "output_type": "stream",
          "text": [
            "[[64 25 93 74 59 82  5 98 25 49 90 49 18 35 66  3  6 63 89 27  9 27 17 87\n",
            "   5 81 89  2 92 20 77 80  6 45 29 76 14 29 25  8 56 73 40 95 84 50 73 51\n",
            "  61  6 22 88 23 42 23 24 64 99  5 62 93 20 29 37 72 72 79 51 90 51 78  3\n",
            "   9 36 84 49 32 89 28 50 64 72 43 60 70 22 27 27 89 81 89 36  6 39 80 26\n",
            "  77  3 52 27]]\n",
            "49.21\n",
            "49.5\n",
            "29.44734113634031\n"
          ],
          "name": "stdout"
        }
      ]
    },
    {
      "cell_type": "markdown",
      "metadata": {
        "id": "vWhE78R79Epb",
        "colab_type": "text"
      },
      "source": [
        "# 8. Normalize a 5x5 random matrix"
      ]
    },
    {
      "cell_type": "code",
      "metadata": {
        "id": "2eVrC1ia9EyD",
        "colab_type": "code",
        "colab": {
          "base_uri": "https://localhost:8080/",
          "height": 221
        },
        "outputId": "52645fac-5884-462f-f8cd-8e5efddeabc4"
      },
      "source": [
        "a = np.random.randint(100,  size=(5, 5))\n",
        "print(a)\n",
        "print('\\n')\n",
        "\n",
        "a_max, a_min = a.max(), a.min()\n",
        "a = (a - a_min)/(a_max - a_min)\n",
        "\n",
        "print(a)\n"
      ],
      "execution_count": 58,
      "outputs": [
        {
          "output_type": "stream",
          "text": [
            "[[23  8 26 80 16]\n",
            " [83 95 86 26 67]\n",
            " [41  0 64 84 44]\n",
            " [14 11 79 48 33]\n",
            " [73 55 50 52  0]]\n",
            "\n",
            "\n",
            "[[0.24210526 0.08421053 0.27368421 0.84210526 0.16842105]\n",
            " [0.87368421 1.         0.90526316 0.27368421 0.70526316]\n",
            " [0.43157895 0.         0.67368421 0.88421053 0.46315789]\n",
            " [0.14736842 0.11578947 0.83157895 0.50526316 0.34736842]\n",
            " [0.76842105 0.57894737 0.52631579 0.54736842 0.        ]]\n"
          ],
          "name": "stdout"
        }
      ]
    },
    {
      "cell_type": "markdown",
      "metadata": {
        "id": "6D3te7sjAX0b",
        "colab_type": "text"
      },
      "source": [
        "# 9. Consider an array of dimension (4,4,3), how to mulitply it by an array with dimensions (4,4)?"
      ]
    },
    {
      "cell_type": "code",
      "metadata": {
        "id": "SwWoWeMmAX9Z",
        "colab_type": "code",
        "colab": {
          "base_uri": "https://localhost:8080/",
          "height": 799
        },
        "outputId": "061ae714-d1b1-49c8-bcae-f2275c1292b8"
      },
      "source": [
        "a = np.random.randint(100,  size=(4,4,3))\n",
        "b = np.random.randint(100,  size=(4, 4))\n",
        "\n",
        "print(a)\n",
        "print('\\n')\n",
        "print(b)\n",
        "print('\\n')\n",
        "\n",
        "c = np.split(ary=a, axis=2, indices_or_sections=3)\n",
        "\n",
        "c1, c2, c3 = c[0], c[1], c[2]\n",
        "\n",
        "multi = b*c1\n",
        "multi = multi*c2\n",
        "multi = multi*c3\n",
        "\n",
        "print(multi)"
      ],
      "execution_count": 78,
      "outputs": [
        {
          "output_type": "stream",
          "text": [
            "[[[46 32  1]\n",
            "  [53 52 77]\n",
            "  [78 95 63]\n",
            "  [40 83 15]]\n",
            "\n",
            " [[69 78 49]\n",
            "  [ 0 11 64]\n",
            "  [65 46 39]\n",
            "  [31 20 20]]\n",
            "\n",
            " [[14 16 70]\n",
            "  [97 79 68]\n",
            "  [72 65 36]\n",
            "  [59 56 31]]\n",
            "\n",
            " [[54 99 60]\n",
            "  [39 81 20]\n",
            "  [31 81 61]\n",
            "  [ 6  6  4]]]\n",
            "\n",
            "\n",
            "[[91 39 11 22]\n",
            " [90 73 13 66]\n",
            " [67 94 48 96]\n",
            " [38 40 16  5]]\n",
            "\n",
            "\n",
            "[[[  133952    57408    16192    32384]\n",
            "  [19099080 15491476  2758756 14005992]\n",
            "  [31277610 43882020 22407840 44815680]\n",
            "  [ 1892400  1992000   796800   249000]]\n",
            "\n",
            " [[23998338 10285002  2900898  5801796]\n",
            "  [       0        0        0        0]\n",
            "  [ 7812870 10961340  5597280 11194560]\n",
            "  [  471200   496000   198400    62000]]\n",
            "\n",
            " [[ 1426880   611520   172480   344960]\n",
            "  [46897560 38039132  6774092 34391544]\n",
            "  [11288160 15837120  8087040 16174080]\n",
            "  [ 3892112  4096960  1638784   512120]]\n",
            "\n",
            " [[29189160 12509640  3528360  7056720]\n",
            "  [ 5686200  4612140   821340  4169880]\n",
            "  [10262457 14398074  7352208 14704416]\n",
            "  [    5472     5760     2304      720]]]\n"
          ],
          "name": "stdout"
        }
      ]
    },
    {
      "cell_type": "code",
      "metadata": {
        "id": "hKv7V549FuaO",
        "colab_type": "code",
        "colab": {
          "base_uri": "https://localhost:8080/",
          "height": 340
        },
        "outputId": "775e0f38-ecc5-43ff-bc5a-d6b129c78946"
      },
      "source": [
        "a * b[:,:,None]"
      ],
      "execution_count": 81,
      "outputs": [
        {
          "output_type": "execute_result",
          "data": {
            "text/plain": [
              "array([[[4186, 2912,   91],\n",
              "        [2067, 2028, 3003],\n",
              "        [ 858, 1045,  693],\n",
              "        [ 880, 1826,  330]],\n",
              "\n",
              "       [[6210, 7020, 4410],\n",
              "        [   0,  803, 4672],\n",
              "        [ 845,  598,  507],\n",
              "        [2046, 1320, 1320]],\n",
              "\n",
              "       [[ 938, 1072, 4690],\n",
              "        [9118, 7426, 6392],\n",
              "        [3456, 3120, 1728],\n",
              "        [5664, 5376, 2976]],\n",
              "\n",
              "       [[2052, 3762, 2280],\n",
              "        [1560, 3240,  800],\n",
              "        [ 496, 1296,  976],\n",
              "        [  30,   30,   20]]])"
            ]
          },
          "metadata": {
            "tags": []
          },
          "execution_count": 81
        }
      ]
    }
  ]
}