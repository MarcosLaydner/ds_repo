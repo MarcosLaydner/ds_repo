{
  "nbformat": 4,
  "nbformat_minor": 0,
  "metadata": {
    "colab": {
      "name": "Copy of Exercise_2_GAN.ipynb",
      "provenance": [],
      "include_colab_link": true
    },
    "kernelspec": {
      "name": "python3",
      "display_name": "Python 3"
    },
    "accelerator": "GPU"
  },
  "cells": [
    {
      "cell_type": "markdown",
      "metadata": {
        "id": "view-in-github",
        "colab_type": "text"
      },
      "source": [
        "<a href=\"https://colab.research.google.com/github/MarcosLaydner/ds_repo/blob/master/Lab_9/Copy_of_Exercise_2_GAN.ipynb\" target=\"_parent\"><img src=\"https://colab.research.google.com/assets/colab-badge.svg\" alt=\"Open In Colab\"/></a>"
      ]
    },
    {
      "cell_type": "code",
      "metadata": {
        "id": "PW3OfIWak6-M",
        "colab_type": "code",
        "colab": {}
      },
      "source": [
        "import keras\n",
        "from keras import layers\n",
        "import numpy as np"
      ],
      "execution_count": 0,
      "outputs": []
    },
    {
      "cell_type": "markdown",
      "metadata": {
        "id": "fAPMeBiBlEqC",
        "colab_type": "text"
      },
      "source": [
        "### GAN Generator Network"
      ]
    },
    {
      "cell_type": "code",
      "metadata": {
        "id": "jGGQxA2dlItN",
        "colab_type": "code",
        "outputId": "0fb92c08-16a1-49a6-8697-d053ae82a4f1",
        "colab": {
          "base_uri": "https://localhost:8080/",
          "height": 595
        }
      },
      "source": [
        "latent_dim = 32\n",
        "height = 32\n",
        "width = 32\n",
        "channels = 3\n",
        "\n",
        "generator_input = keras.Input(shape=(latent_dim,))\n",
        "\n",
        "# Transforms the input into a 16 × 16 128-channel feature map\n",
        "x = layers.Dense(128 * 16 * 16)(generator_input)\n",
        "x = layers.LeakyReLU()(x)\n",
        "x = layers.Reshape((16, 16, 128))(x)\n",
        "\n",
        "x = layers.Conv2D(256, 5, padding='same')(x)\n",
        "x = layers.LeakyReLU()(x)\n",
        "\n",
        "# Upsamples to 32 × 32\n",
        "x = layers.Conv2DTranspose(256, 4, strides=2, padding='same')(x)\n",
        "x = layers.LeakyReLU()(x)\n",
        "\n",
        "x = layers.Conv2D(256, 5, padding='same')(x)\n",
        "x = layers.LeakyReLU()(x)\n",
        "x = layers.Conv2D(256, 5, padding='same')(x)\n",
        "x = layers.LeakyReLU()(x)\n",
        "\n",
        "# Produces a 32 × 32 1-channel feature map (shape of a CIFAR10 image)\n",
        "x = layers.Conv2D(channels, 7, activation='tanh', padding='same')(x)\n",
        "\n",
        "# Instantiates the generator model, which maps the input of shape (latent_dim,) \n",
        "#into an image of shape (32, 32, 3)\n",
        "generator = keras.models.Model(generator_input, x)\n",
        "generator.summary()"
      ],
      "execution_count": 31,
      "outputs": [
        {
          "output_type": "stream",
          "text": [
            "Model: \"model_16\"\n",
            "_________________________________________________________________\n",
            "Layer (type)                 Output Shape              Param #   \n",
            "=================================================================\n",
            "input_16 (InputLayer)        (None, 32)                0         \n",
            "_________________________________________________________________\n",
            "dense_11 (Dense)             (None, 32768)             1081344   \n",
            "_________________________________________________________________\n",
            "leaky_re_lu_46 (LeakyReLU)   (None, 32768)             0         \n",
            "_________________________________________________________________\n",
            "reshape_6 (Reshape)          (None, 16, 16, 128)       0         \n",
            "_________________________________________________________________\n",
            "conv2d_41 (Conv2D)           (None, 16, 16, 256)       819456    \n",
            "_________________________________________________________________\n",
            "leaky_re_lu_47 (LeakyReLU)   (None, 16, 16, 256)       0         \n",
            "_________________________________________________________________\n",
            "conv2d_transpose_6 (Conv2DTr (None, 32, 32, 256)       1048832   \n",
            "_________________________________________________________________\n",
            "leaky_re_lu_48 (LeakyReLU)   (None, 32, 32, 256)       0         \n",
            "_________________________________________________________________\n",
            "conv2d_42 (Conv2D)           (None, 32, 32, 256)       1638656   \n",
            "_________________________________________________________________\n",
            "leaky_re_lu_49 (LeakyReLU)   (None, 32, 32, 256)       0         \n",
            "_________________________________________________________________\n",
            "conv2d_43 (Conv2D)           (None, 32, 32, 256)       1638656   \n",
            "_________________________________________________________________\n",
            "leaky_re_lu_50 (LeakyReLU)   (None, 32, 32, 256)       0         \n",
            "_________________________________________________________________\n",
            "conv2d_44 (Conv2D)           (None, 32, 32, 3)         37635     \n",
            "=================================================================\n",
            "Total params: 6,264,579\n",
            "Trainable params: 6,264,579\n",
            "Non-trainable params: 0\n",
            "_________________________________________________________________\n"
          ],
          "name": "stdout"
        }
      ]
    },
    {
      "cell_type": "markdown",
      "metadata": {
        "id": "s18BaHjOlS1j",
        "colab_type": "text"
      },
      "source": [
        "### GAN Discriminator Network\n",
        "\n"
      ]
    },
    {
      "cell_type": "code",
      "metadata": {
        "id": "7rFbpR7NlYzU",
        "colab_type": "code",
        "outputId": "f2a75d5c-bc5c-4c7d-851d-e947e34cd2c5",
        "colab": {
          "base_uri": "https://localhost:8080/",
          "height": 561
        }
      },
      "source": [
        "discriminator_input = layers.Input(shape=(height, width, channels))\n",
        "\n",
        "x = layers.Conv2D(128, 3)(discriminator_input)\n",
        "x = layers.LeakyReLU()(x)\n",
        "x = layers.Conv2D(128, 4, strides=2)(x)\n",
        "x = layers.LeakyReLU()(x)\n",
        "x = layers.Conv2D(128, 4, strides=2)(x)\n",
        "x = layers.LeakyReLU()(x)\n",
        "x = layers.Conv2D(128, 4, strides=2)(x)\n",
        "x = layers.LeakyReLU()(x)\n",
        "x = layers.Flatten()(x)\n",
        "\n",
        "# One dropout layer: an important trick\n",
        "x = layers.Dropout(0.4)(x)\n",
        "\n",
        "# Classification layer\n",
        "x = layers.Dense(1, activation='sigmoid')(x)\n",
        "\n",
        "#Instantiates the discriminator model, which turns a (32, 32, 3) input into a binary \n",
        "#classification decision (fake/real)\n",
        "discriminator = keras.models.Model(discriminator_input, x)\n",
        "discriminator.summary()\n",
        "\n",
        "# Uses gradient clipping (by value) in the optimizer and To stabilize training, \n",
        "# uses learning-rate decay\n",
        "discriminator_optimizer = keras.optimizers.RMSprop(lr=0.0008,clipvalue=1.0,decay=1e-8)\n",
        "discriminator.compile(optimizer=discriminator_optimizer,loss='binary_crossentropy')"
      ],
      "execution_count": 32,
      "outputs": [
        {
          "output_type": "stream",
          "text": [
            "Model: \"model_17\"\n",
            "_________________________________________________________________\n",
            "Layer (type)                 Output Shape              Param #   \n",
            "=================================================================\n",
            "input_17 (InputLayer)        (None, 32, 32, 3)         0         \n",
            "_________________________________________________________________\n",
            "conv2d_45 (Conv2D)           (None, 30, 30, 128)       3584      \n",
            "_________________________________________________________________\n",
            "leaky_re_lu_51 (LeakyReLU)   (None, 30, 30, 128)       0         \n",
            "_________________________________________________________________\n",
            "conv2d_46 (Conv2D)           (None, 14, 14, 128)       262272    \n",
            "_________________________________________________________________\n",
            "leaky_re_lu_52 (LeakyReLU)   (None, 14, 14, 128)       0         \n",
            "_________________________________________________________________\n",
            "conv2d_47 (Conv2D)           (None, 6, 6, 128)         262272    \n",
            "_________________________________________________________________\n",
            "leaky_re_lu_53 (LeakyReLU)   (None, 6, 6, 128)         0         \n",
            "_________________________________________________________________\n",
            "conv2d_48 (Conv2D)           (None, 2, 2, 128)         262272    \n",
            "_________________________________________________________________\n",
            "leaky_re_lu_54 (LeakyReLU)   (None, 2, 2, 128)         0         \n",
            "_________________________________________________________________\n",
            "flatten_6 (Flatten)          (None, 512)               0         \n",
            "_________________________________________________________________\n",
            "dropout_6 (Dropout)          (None, 512)               0         \n",
            "_________________________________________________________________\n",
            "dense_12 (Dense)             (None, 1)                 513       \n",
            "=================================================================\n",
            "Total params: 790,913\n",
            "Trainable params: 790,913\n",
            "Non-trainable params: 0\n",
            "_________________________________________________________________\n"
          ],
          "name": "stdout"
        }
      ]
    },
    {
      "cell_type": "markdown",
      "metadata": {
        "id": "x2IdFtsElccu",
        "colab_type": "text"
      },
      "source": [
        "### Adversarial network"
      ]
    },
    {
      "cell_type": "code",
      "metadata": {
        "id": "R43PKXhflg3W",
        "colab_type": "code",
        "colab": {}
      },
      "source": [
        "# Sets discriminator weights to non-trainable (this will only apply to the gan model)\n",
        "discriminator.trainable = False\n",
        "\n",
        "gan_input = keras.Input(shape=(latent_dim,))\n",
        "gan_output = discriminator(generator(gan_input))\n",
        "gan = keras.models.Model(gan_input, gan_output)\n",
        "\n",
        "gan_optimizer = keras.optimizers.RMSprop(lr=0.0004, clipvalue=1.0, decay=1e-8)\n",
        "gan.compile(optimizer=gan_optimizer, loss='binary_crossentropy')"
      ],
      "execution_count": 0,
      "outputs": []
    },
    {
      "cell_type": "code",
      "metadata": {
        "id": "3HrAx5KjlpLc",
        "colab_type": "code",
        "outputId": "b4af9e52-7245-466c-e66d-3b38abd31217",
        "colab": {
          "base_uri": "https://localhost:8080/",
          "height": 85
        }
      },
      "source": [
        "import os\n",
        "from keras.preprocessing import image\n",
        "if not os.path.isdir('GAN'): \n",
        "  os.mkdir('GAN')\n",
        "\n",
        "# Loads CIFAR10 data\n",
        "(x_train, y_train), (_, _) = keras.datasets.cifar10.load_data()\n",
        "\n",
        "# Selects frog images (class 6)\n",
        "x_train = x_train[y_train.flatten() == 6]\n",
        "\n",
        "x_train = x_train.reshape(\n",
        "    (x_train.shape[0],) +\n",
        "    (height, width, channels)).astype('float32') / 255.\n",
        "\n",
        "iterations = 10000\n",
        "batch_size = 20\n",
        "save_dir = '/content/GAN'# Specifies where you want to save generated images\n",
        "\n",
        "start = 0\n",
        "# Samples random points in the latent space\n",
        "for step in range(iterations):\n",
        "    random_latent_vectors = np.random.normal(size=(batch_size, latent_dim))\n",
        "\n",
        "# Decodes them to fake images    \n",
        "generated_images = generator.predict(random_latent_vectors)\n",
        "\n",
        "# Combines them with real images \n",
        "stop = start + batch_size\n",
        "real_images = x_train[start: stop]\n",
        "combined_images = np.concatenate([generated_images, real_images])\n",
        "\n",
        "labels = np.concatenate([np.ones((batch_size, 1)), np.zeros((batch_size, 1))])\n",
        "labels += 0.05 * np.random.random(labels.shape)\n",
        "\n",
        "# Trains the discriminator\n",
        "d_loss = discriminator.train_on_batch(combined_images, labels)\n",
        "\n",
        "# Samples random points in the latent space\n",
        "random_latent_vectors = np.random.normal(size=(batch_size,latent_dim))\n",
        "\n",
        "# Assembles latent space labels that say “these are all real images” (it’s a lie!)\n",
        "misleading_targets = np.zeros((batch_size, 1))\n",
        "\n",
        "# Trains the generator (via the gan model, where the discriminator weights are frozen)\n",
        "a_loss = gan.train_on_batch(random_latent_vectors, misleading_targets)\n",
        "\n",
        "start += batch_size\n",
        "if start > len(x_train) - batch_size: \n",
        "    start = 0\n",
        "    \n",
        "if step % 100 == 0: \n",
        "    gan.save_weights('gan.h5')\n",
        "    \n",
        "print('discriminator loss:', d_loss)\n",
        "print('adversarial loss:', a_loss)\n",
        "\n",
        "img = image.array_to_img(generated_images[0] * 255., scale=False)\n",
        "img.save(os.path.join(save_dir,\n",
        "                      'generated_frog' + str(step) + '.png'))\n",
        "\n",
        "img = image.array_to_img(real_images[0] * 255., scale=False)\n",
        "img.save(os.path.join(save_dir,\n",
        "                      'real_frog' + str(step) + '.png'))"
      ],
      "execution_count": 34,
      "outputs": [
        {
          "output_type": "stream",
          "text": [
            "/usr/local/lib/python3.6/dist-packages/keras/engine/training.py:493: UserWarning: Discrepancy between trainable weights and collected trainable weights, did you set `model.trainable` without calling `model.compile` after ?\n",
            "  'Discrepancy between trainable weights and collected trainable'\n"
          ],
          "name": "stderr"
        },
        {
          "output_type": "stream",
          "text": [
            "discriminator loss: 0.67044765\n",
            "adversarial loss: 0.6553054\n"
          ],
          "name": "stdout"
        }
      ]
    }
  ]
}